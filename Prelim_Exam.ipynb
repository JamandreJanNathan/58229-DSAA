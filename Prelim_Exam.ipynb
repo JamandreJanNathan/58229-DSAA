{
  "nbformat": 4,
  "nbformat_minor": 0,
  "metadata": {
    "colab": {
      "provenance": [],
      "include_colab_link": true
    },
    "kernelspec": {
      "name": "python3",
      "display_name": "Python 3"
    },
    "language_info": {
      "name": "python"
    }
  },
  "cells": [
    {
      "cell_type": "markdown",
      "metadata": {
        "id": "view-in-github",
        "colab_type": "text"
      },
      "source": [
        "<a href=\"https://colab.research.google.com/github/JamandreJanNathan/58229-DSAA/blob/main/Prelim_Exam.ipynb\" target=\"_parent\"><img src=\"https://colab.research.google.com/assets/colab-badge.svg\" alt=\"Open In Colab\"/></a>"
      ]
    },
    {
      "cell_type": "code",
      "execution_count": 6,
      "metadata": {
        "id": "oi5eZdDk7JqH",
        "colab": {
          "base_uri": "https://localhost:8080/"
        },
        "outputId": "e24b85d3-cd09-4e28-f637-74e87c21ff04"
      },
      "outputs": [
        {
          "output_type": "stream",
          "name": "stdout",
          "text": [
            "397\n"
          ]
        }
      ],
      "source": [
        "scores = [26, 49, 98, 87, 62, 75]\n",
        "addscore= sum(scores)\n",
        "print(addscore)"
      ]
    },
    {
      "cell_type": "code",
      "source": [
        "tst_scores = [26, 49, 98, 87, 62, 75]\n",
        "tst_scores.sort()\n",
        "print(tst_scores)"
      ],
      "metadata": {
        "colab": {
          "base_uri": "https://localhost:8080/"
        },
        "id": "rOJIC1xJ9ITP",
        "outputId": "20a55175-7202-4c41-b22e-84bc411e44b3"
      },
      "execution_count": 14,
      "outputs": [
        {
          "output_type": "stream",
          "name": "stdout",
          "text": [
            "[26, 49, 62, 75, 87, 98]\n"
          ]
        }
      ]
    }
  ]
}