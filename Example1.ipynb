{
  "nbformat": 4,
  "nbformat_minor": 0,
  "metadata": {
    "colab": {
      "provenance": [],
      "authorship_tag": "ABX9TyPustndXzA+l7X1Ldg85k39",
      "include_colab_link": true
    },
    "kernelspec": {
      "name": "python3",
      "display_name": "Python 3"
    },
    "language_info": {
      "name": "python"
    }
  },
  "cells": [
    {
      "cell_type": "markdown",
      "metadata": {
        "id": "view-in-github",
        "colab_type": "text"
      },
      "source": [
        "<a href=\"https://colab.research.google.com/github/JamandreJanNathan/58229-DSAA/blob/main/Example1.ipynb\" target=\"_parent\"><img src=\"https://colab.research.google.com/assets/colab-badge.svg\" alt=\"Open In Colab\"/></a>"
      ]
    },
    {
      "cell_type": "code",
      "source": [
        "import math\n",
        "\n",
        "class Rectangle:\n",
        "    def __init__(self, length, width):\n",
        "        self.length = length\n",
        "        self.width = width\n",
        "\n",
        "    def area(self):\n",
        "        return self.width * self.length\n",
        "\n",
        "\n",
        "    def display(self):56\n",
        "\n",
        "        print(\"Area =\", self.area())\n",
        "\n",
        "length = float(input(\"Input length: \"))\n",
        "width = float(input(\"Input width: \"))\n",
        "samplerectangle = Rectangle(length, width)\n",
        "samplerectangle.display()"
      ],
      "metadata": {
        "colab": {
          "base_uri": "https://localhost:8080/"
        },
        "id": "c6aEN4k41i3T",
        "outputId": "3d14f4bb-f2cf-4654-e2b3-f0b50048eae2"
      },
      "execution_count": 17,
      "outputs": [
        {
          "output_type": "stream",
          "name": "stdout",
          "text": [
            "Input length: 56\n",
            "Input width: 56\n",
            "Area = 3136.0\n"
          ]
        }
      ]
    }
  ]
}