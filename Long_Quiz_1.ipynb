{
  "nbformat": 4,
  "nbformat_minor": 0,
  "metadata": {
    "colab": {
      "provenance": [],
      "authorship_tag": "ABX9TyO4qyx6LdvVg+4QX4dJd57L",
      "include_colab_link": true
    },
    "kernelspec": {
      "name": "python3",
      "display_name": "Python 3"
    },
    "language_info": {
      "name": "python"
    }
  },
  "cells": [
    {
      "cell_type": "markdown",
      "metadata": {
        "id": "view-in-github",
        "colab_type": "text"
      },
      "source": [
        "<a href=\"https://colab.research.google.com/github/JamandreJanNathan/58229-DSAA/blob/main/Long_Quiz_1.ipynb\" target=\"_parent\"><img src=\"https://colab.research.google.com/assets/colab-badge.svg\" alt=\"Open In Colab\"/></a>"
      ]
    },
    {
      "cell_type": "code",
      "execution_count": 10,
      "metadata": {
        "colab": {
          "base_uri": "https://localhost:8080/"
        },
        "id": "f1zc-GgN2S6g",
        "outputId": "2b797355-2dd2-418b-d57f-0a6c9049fa4e"
      },
      "outputs": [
        {
          "output_type": "stream",
          "name": "stdout",
          "text": [
            "erdnamaJ .J nahtaN naJ\n"
          ]
        }
      ],
      "source": [
        "nom = \"Jan Nathan J. Jamandre\"\n",
        "rvsnom = \"\"\n",
        "for x in range(len(nom) - 1, -1, -1):\n",
        "  rvsnom += nm[x]\n",
        "\n",
        "print(rvsnom)"
      ]
    },
    {
      "cell_type": "code",
      "source": [
        "def is_prime(n):\n",
        "\n",
        "  if n <= 1:\n",
        "    return False\n",
        "  for i in range(2, int(n**0.5) + 1):\n",
        "    if n % i == 0:\n",
        "      return False\n",
        "  return True\n",
        "\n",
        "\n",
        "for i in range(1, 11):\n",
        "  if is_prime(i):\n",
        "    print(i, \"is prime \")\n",
        "  else:\n",
        "    print(i, \"is composite\")"
      ],
      "metadata": {
        "colab": {
          "base_uri": "https://localhost:8080/"
        },
        "id": "KYzcNlPy70UP",
        "outputId": "39f13b1e-fd4c-41a1-ee59-94849ecf2651"
      },
      "execution_count": 23,
      "outputs": [
        {
          "output_type": "stream",
          "name": "stdout",
          "text": [
            "1 is composite\n",
            "2 is prime \n",
            "3 is prime \n",
            "4 is composite\n",
            "5 is prime \n",
            "6 is composite\n",
            "7 is prime \n",
            "8 is composite\n",
            "9 is composite\n",
            "10 is composite\n"
          ]
        }
      ]
    }
  ]
}