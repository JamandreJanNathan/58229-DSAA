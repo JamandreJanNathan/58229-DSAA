{
  "nbformat": 4,
  "nbformat_minor": 0,
  "metadata": {
    "colab": {
      "provenance": [],
      "include_colab_link": true
    },
    "kernelspec": {
      "name": "python3",
      "display_name": "Python 3"
    },
    "language_info": {
      "name": "python"
    }
  },
  "cells": [
    {
      "cell_type": "markdown",
      "metadata": {
        "id": "view-in-github",
        "colab_type": "text"
      },
      "source": [
        "<a href=\"https://colab.research.google.com/github/JamandreJanNathan/58229-DSAA/blob/main/Practical_Lab_Exam.ipynb\" target=\"_parent\"><img src=\"https://colab.research.google.com/assets/colab-badge.svg\" alt=\"Open In Colab\"/></a>"
      ]
    },
    {
      "cell_type": "code",
      "execution_count": 1,
      "metadata": {
        "colab": {
          "base_uri": "https://localhost:8080/"
        },
        "id": "zAhR6JW4k5EL",
        "outputId": "985c5912-8a11-4294-c353-6215fea80c52"
      },
      "outputs": [
        {
          "output_type": "stream",
          "name": "stdout",
          "text": [
            "Sum of test scores if numeber is odd: 211\n"
          ]
        }
      ],
      "source": [
        "scs = [26, 49, 98, 87, 62, 75]\n",
        "def oddscs(scs):\n",
        "    full = 0\n",
        "    for i in scs:\n",
        "        if i%2!=0:\n",
        "            full += i\n",
        "    return full\n",
        "\n",
        "\n",
        "sc_sum = oddscs(scs)\n",
        "print(\"Sum of test scores if numeber is odd:\", sc_sum)"
      ]
    }
  ]
}