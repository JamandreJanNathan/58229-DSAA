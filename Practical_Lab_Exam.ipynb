{
  "nbformat": 4,
  "nbformat_minor": 0,
  "metadata": {
    "colab": {
      "provenance": [],
      "include_colab_link": true
    },
    "kernelspec": {
      "name": "python3",
      "display_name": "Python 3"
    },
    "language_info": {
      "name": "python"
    }
  },
  "cells": [
    {
      "cell_type": "markdown",
      "metadata": {
        "id": "view-in-github",
        "colab_type": "text"
      },
      "source": [
        "<a href=\"https://colab.research.google.com/github/JamandreJanNathan/58229-DSAA/blob/main/Practical_Lab_Exam.ipynb\" target=\"_parent\"><img src=\"https://colab.research.google.com/assets/colab-badge.svg\" alt=\"Open In Colab\"/></a>"
      ]
    },
    {
      "cell_type": "code",
      "execution_count": null,
      "metadata": {
        "colab": {
          "base_uri": "https://localhost:8080/"
        },
        "id": "zAhR6JW4k5EL",
        "outputId": "a3e612da-75c4-4e73-e775-7c2d9fc34398"
      },
      "outputs": [
        {
          "output_type": "stream",
          "name": "stdout",
          "text": [
            "Sum of test scores if numeber is odd: 211\n"
          ]
        }
      ],
      "source": [
        "def oddscs(scs):\n",
        "    full = 0\n",
        "    for i in scs:\n",
        "        if i%2!=0:\n",
        "            full += i\n",
        "    return full\n",
        "\n",
        "scs = [26, 49, 98, 87, 62, 75]\n",
        "sc_sum = oddscs(scs)\n",
        "print(\"Sum of test scores if numeber is odd:\", sc_sum)"
      ]
    }
  ]
}