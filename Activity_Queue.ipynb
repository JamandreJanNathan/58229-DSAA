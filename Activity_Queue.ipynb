{
  "nbformat": 4,
  "nbformat_minor": 0,
  "metadata": {
    "colab": {
      "provenance": [],
      "authorship_tag": "ABX9TyMa2A9g4BYU7mXGZaacmgtO",
      "include_colab_link": true
    },
    "kernelspec": {
      "name": "python3",
      "display_name": "Python 3"
    },
    "language_info": {
      "name": "python"
    }
  },
  "cells": [
    {
      "cell_type": "markdown",
      "metadata": {
        "id": "view-in-github",
        "colab_type": "text"
      },
      "source": [
        "<a href=\"https://colab.research.google.com/github/JamandreJanNathan/58229-DSAA/blob/main/Activity_Queue.ipynb\" target=\"_parent\"><img src=\"https://colab.research.google.com/assets/colab-badge.svg\" alt=\"Open In Colab\"/></a>"
      ]
    },
    {
      "cell_type": "code",
      "execution_count": 1,
      "metadata": {
        "colab": {
          "base_uri": "https://localhost:8080/"
        },
        "id": "J4IggQyakWco",
        "outputId": "e8820d23-5417-43ca-abb6-fc0a3856c901"
      },
      "outputs": [
        {
          "output_type": "stream",
          "name": "stdout",
          "text": [
            "['A', 'B', 'C']\n",
            "A\n",
            "B\n",
            "C\n",
            "[]\n"
          ]
        }
      ],
      "source": [
        "queue = []\n",
        "queue.append(\"A\")\n",
        "queue.append(\"B\")\n",
        "queue.append(\"C\")\n",
        "print(queue)\n",
        "\n",
        "print(queue.pop(0))\n",
        "print(queue.pop(0))\n",
        "print(queue.pop(0))\n",
        "print(queue)"
      ]
    },
    {
      "cell_type": "markdown",
      "source": [
        "Holidays in Philippines"
      ],
      "metadata": {
        "id": "llUyoKQTnQ64"
      }
    },
    {
      "cell_type": "code",
      "source": [
        "queue = []\n",
        "queue.append(\"New Year\")\n",
        "queue.append(\"Araw ng Kagitingan\")\n",
        "queue.append(\"Maundy Thursday\")\n",
        "queue.append(\"Good Friday\")\n",
        "queue.append(\"Eid'l Fitr\")\n",
        "queue.append(\"Labor Day\")\n",
        "queue.append(\"Independence Day\")\n",
        "queue.append(\"Eid'l Adha\")\n",
        "queue.append(\"National Heroes Day\")\n",
        "queue.append(\"Bonifacio Day\")\n",
        "queue.append(\"Christmas Day\")\n",
        "queue.append(\"Rizal Day\")\n",
        "print(queue)\n",
        "\n",
        "for _ in range(12):\n",
        "    print(queue.pop(0))\n",
        "print(queue)"
      ],
      "metadata": {
        "colab": {
          "base_uri": "https://localhost:8080/"
        },
        "id": "1FB-EPMYmv5A",
        "outputId": "e7206f0e-3b47-4812-a849-c5dd2ae9bebf"
      },
      "execution_count": 8,
      "outputs": [
        {
          "output_type": "stream",
          "name": "stdout",
          "text": [
            "['あ', 'Araw ng Kagitingan', 'Maundy Thursday', 'Good Friday', \"Eid'l Fitr\", 'Labor Day', 'Independence Day', \"Eid'l Adha\", 'National Heroes Day', 'Bonifacio Day', 'Christmas Day', 'Rizal Day']\n",
            "あ\n",
            "Araw ng Kagitingan\n",
            "Maundy Thursday\n",
            "Good Friday\n",
            "Eid'l Fitr\n",
            "Labor Day\n",
            "Independence Day\n",
            "Eid'l Adha\n",
            "National Heroes Day\n",
            "Bonifacio Day\n",
            "Christmas Day\n",
            "Rizal Day\n",
            "[]\n"
          ]
        }
      ]
    }
  ]
}