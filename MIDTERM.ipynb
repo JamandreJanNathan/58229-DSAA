{
  "nbformat": 4,
  "nbformat_minor": 0,
  "metadata": {
    "colab": {
      "provenance": [],
      "authorship_tag": "ABX9TyNhza4d7mishA+hE2OezSuJ",
      "include_colab_link": true
    },
    "kernelspec": {
      "name": "python3",
      "display_name": "Python 3"
    },
    "language_info": {
      "name": "python"
    }
  },
  "cells": [
    {
      "cell_type": "markdown",
      "metadata": {
        "id": "view-in-github",
        "colab_type": "text"
      },
      "source": [
        "<a href=\"https://colab.research.google.com/github/JamandreJanNathan/58229-DSAA/blob/main/MIDTERM.ipynb\" target=\"_parent\"><img src=\"https://colab.research.google.com/assets/colab-badge.svg\" alt=\"Open In Colab\"/></a>"
      ]
    },
    {
      "cell_type": "code",
      "execution_count": 2,
      "metadata": {
        "colab": {
          "base_uri": "https://localhost:8080/"
        },
        "id": "Z4y2L7J0TX6g",
        "outputId": "2b95610d-22d4-40b8-f82e-46af0a869bcb"
      },
      "outputs": [
        {
          "output_type": "stream",
          "name": "stdout",
          "text": [
            "[{'B', 'A'}, {'B', 'C'}, {'B', 'E'}, {'B', 'F'}, {'D', 'C'}, {'E', 'C'}, {'F', 'C'}, {'D', 'K'}, {'D', 'L'}, {'E', 'N'}, {'F', 'G'}, {'F', 'I'}, {'G', 'I'}, {'G', 'J'}, {'I', 'J'}, {'I', 'K'}, {'J', 'K'}, {'L', 'M'}, {'L', 'P'}, {'C', 'M'}, {'N', 'M'}, {'O', 'M'}, {'P', 'M'}, {'O', 'N'}, {'O', 'P'}]\n"
          ]
        }
      ],
      "source": [
        "class graph:\n",
        "   def __init__(self,gdict=None):\n",
        "      if gdict is None:\n",
        "         gdict = {}\n",
        "      self.gdict = gdict\n",
        "\n",
        "   def edges(self):\n",
        "      return self.findedges()\n",
        "\n",
        "   def findedges(self):\n",
        "      edgename = []\n",
        "      for vrtx in self.gdict:\n",
        "         for nxtvrtx in self.gdict[vrtx]:\n",
        "            if {nxtvrtx, vrtx} not in edgename:\n",
        "               edgename.append({vrtx, nxtvrtx})\n",
        "      return edgename\n",
        "\n",
        "graph_elements = {\n",
        "'A' : ('B'),\n",
        "'B' : ('A', 'C', 'E', 'F'),\n",
        "'C' : ('B','D','E','F'),\n",
        "'D': ('C','K','L'),\n",
        "'E' : ('B','C','N'),\n",
        "'F' : ('B','C','G','I'),\n",
        "'G' : ('F','I','J'),\n",
        "'I' : ('F','G','J','K'),\n",
        "'J' : ('G','I','K'),\n",
        "'K' : ('D','I','J'),\n",
        "'L' : ('D','M','P'),\n",
        "'M' : ('C','L','N','O','P'),\n",
        "'N' : ('E','M','O'),\n",
        "'O' : ('M','N','P'),\n",
        "'P' : ('L','M','O')\n",
        "}\n",
        "g = graph(graph_elements)\n",
        "print(g.edges())"
      ]
    },
    {
      "cell_type": "code",
      "source": [
        "class graph:\n",
        "   def __init__(self,gdict=None):\n",
        "      if gdict is None:\n",
        "         gdict = []\n",
        "      self.gdict = gdict\n",
        "\n",
        "   def getVertices(self):\n",
        "      return list(self.gdict.keys())\n",
        "\n",
        "graph_elements = {\n",
        "'A' : ('B'),\n",
        "'B' : ('A', 'C', 'E', 'F'),\n",
        "'C' : ('B','D','E','F'),\n",
        "'D': ('C','K','L'),\n",
        "'E' : ('B','C','N'),\n",
        "'F' : ('B','C','G','I'),\n",
        "'G' : ('F','I','J'),\n",
        "'I' : ('F','G','J','K'),\n",
        "'J' : ('G','I','K'),\n",
        "'K' : ('D','I','J'),\n",
        "'L' : ('D','M','P'),\n",
        "'M' : ('C','L','N','O','P'),\n",
        "'N' : ('E','M','O'),\n",
        "'O' : ('M','N','P'),\n",
        "'P' : ('L','M','O')\n",
        "}\n",
        "g = graph(graph_elements)\n",
        "print(g.getVertices())"
      ],
      "metadata": {
        "colab": {
          "base_uri": "https://localhost:8080/"
        },
        "id": "4tWN8w8TUXy9",
        "outputId": "7b5f6e53-e994-472b-da9c-dd5f12d5a375"
      },
      "execution_count": 3,
      "outputs": [
        {
          "output_type": "stream",
          "name": "stdout",
          "text": [
            "['A', 'B', 'C', 'D', 'E', 'F', 'G', 'I', 'J', 'K', 'L', 'M', 'N', 'O', 'P']\n"
          ]
        }
      ]
    }
  ]
}