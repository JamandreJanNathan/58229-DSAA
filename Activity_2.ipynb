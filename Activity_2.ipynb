{
  "nbformat": 4,
  "nbformat_minor": 0,
  "metadata": {
    "colab": {
      "provenance": [],
      "authorship_tag": "ABX9TyMXeTYDdckmz1zH8Pee9ALp",
      "include_colab_link": true
    },
    "kernelspec": {
      "name": "python3",
      "display_name": "Python 3"
    },
    "language_info": {
      "name": "python"
    }
  },
  "cells": [
    {
      "cell_type": "markdown",
      "metadata": {
        "id": "view-in-github",
        "colab_type": "text"
      },
      "source": [
        "<a href=\"https://colab.research.google.com/github/JamandreJanNathan/58229-DSAA/blob/main/Activity_2.ipynb\" target=\"_parent\"><img src=\"https://colab.research.google.com/assets/colab-badge.svg\" alt=\"Open In Colab\"/></a>"
      ]
    },
    {
      "cell_type": "code",
      "execution_count": 1,
      "metadata": {
        "colab": {
          "base_uri": "https://localhost:8080/",
          "height": 35
        },
        "id": "Vjz18ImS9LRH",
        "outputId": "179a74b6-2633-44a1-c170-352deb8ebd14"
      },
      "outputs": [
        {
          "output_type": "execute_result",
          "data": {
            "text/plain": [
              "'f'"
            ],
            "application/vnd.google.colaboratory.intrinsic+json": {
              "type": "string"
            }
          },
          "metadata": {},
          "execution_count": 1
        }
      ],
      "source": [
        "import array\n",
        "array.typecodes #get all typecodes\n",
        "a = array.array('i', [1,2,3,4,5,6]) #initializing array a\n",
        "b = array.array('f', [1.5,2.5,3.5,4.5,5.5,6.5]) #initializing array b\n",
        "a.typecode #getting the typecode of a\n",
        "b.typecode #getting the typecode of b"
      ]
    },
    {
      "cell_type": "code",
      "source": [
        ">>> from array import array # importing array from array module\n",
        ">>> a= array('i',[4,5,6,7]) # initializing array\n",
        ">>> a.insert(1,2) # inserting element: 2 at index: 1\n",
        ">>> a # Printing array aarray('i', [4, 2, 5, 6, 7])\n",
        ">>> a.insert(-1,0) # insert element: 0 at index: -1\n",
        ">>> a\n",
        ">>> a.insert(10, -1) # insert element: -1 at index: 10, this is out of range\n",
        ">>> a\n",
        "array('i', [4, 2, 5, 6, 0, 7, -1])"
      ],
      "metadata": {
        "colab": {
          "base_uri": "https://localhost:8080/"
        },
        "id": "y9pxjoev9UpE",
        "outputId": "68ad8a4a-7029-4a04-e473-e3dea2340acd"
      },
      "execution_count": 2,
      "outputs": [
        {
          "output_type": "execute_result",
          "data": {
            "text/plain": [
              "array('i', [4, 2, 5, 6, 0, 7, -1])"
            ]
          },
          "metadata": {},
          "execution_count": 2
        }
      ]
    },
    {
      "cell_type": "code",
      "source": [
        "# Node class\n",
        "class Node:\n",
        "    def __init__(self, data):\n",
        "        # Function to initialize the node object\n",
        "        self.data = data  # Assign data\n",
        "        self.next = None  # Initialize next as null\n",
        "\n",
        "# Linked List class\n",
        "class LinkedList:\n",
        "    def __init__(self):\n",
        "        # Function to initialize the Linked List object\n",
        "        self.head = None"
      ],
      "metadata": {
        "id": "bC-VNYFu9Z3j"
      },
      "execution_count": 3,
      "outputs": []
    },
    {
      "cell_type": "code",
      "source": [
        "#A simple Python program to introduce a linked list\n",
        "\n",
        "# Node class\n",
        "class Node:\n",
        "\n",
        "  #Function to initialized the node object\n",
        "  def __init__(self,data):\n",
        "    self.data = data #Assign data\n",
        "    self.next = None #Initialize next as null\n",
        "\n",
        "# Linked list class contains a Node object\n",
        "class LinkedList:\n",
        "\n",
        "  # Function to initialize head\n",
        "  def __init__(self):\n",
        "    self.head = None\n",
        "\n",
        "  def printlist(self):\n",
        "    temp = self.head\n",
        "    while (temp):\n",
        "      print(temp.data)\n",
        "      temp = temp.next\n",
        "\n",
        "#Code execution starts here\n",
        "if __name__=='__main__':\n",
        "\n",
        "  #Start with the empty list\n",
        "  llist = LinkedList()\n",
        "\n",
        "  llist.head = Node(1)\n",
        "  second = Node(2)\n",
        "  third = Node(3)\n",
        "\n",
        "  llist.head.next = second; #link first node with second\n",
        "\n",
        "  second.next = third; #Link second node with the third node\n",
        "  llist.printlist()"
      ],
      "metadata": {
        "colab": {
          "base_uri": "https://localhost:8080/"
        },
        "id": "LvdzaSgu993c",
        "outputId": "fd89800c-40b7-42c0-bc73-484045d5ec75"
      },
      "execution_count": 4,
      "outputs": [
        {
          "output_type": "stream",
          "name": "stdout",
          "text": [
            "1\n",
            "2\n",
            "3\n"
          ]
        }
      ]
    },
    {
      "cell_type": "code",
      "source": [
        "#A simple Python program to introduce a linked list\n",
        "\n",
        "# Node class\n",
        "class Node:\n",
        "\n",
        "  #Function to initialized the node object\n",
        "  def __init__(self,data):\n",
        "    self.data = data #Assign data\n",
        "    self.next = None #Initialize next as null\n",
        "\n",
        "# Linked list class contains a Node object\n",
        "class LinkedList:\n",
        "\n",
        "  # Function to initialize head\n",
        "  def __init__(self):\n",
        "    self.head = None\n",
        "\n",
        "\n",
        "\n",
        "  def printlist(self):\n",
        "    temp = self.head\n",
        "    while (temp):\n",
        "      print(temp.data)\n",
        "      temp = temp.next\n",
        "\n",
        "#Code execution starts here\n",
        "if __name__=='__main__':\n",
        "\n",
        "  #Start with the empty list\n",
        "  llist = LinkedList()\n",
        "\n",
        "  llist.head = Node(1)\n",
        "  second = Node(2)\n",
        "  third = Node(3)\n",
        "\n",
        "  llist.head.next = second; #link first node with second\n",
        "\n",
        "  second.next = third; #Link second node with the third node\n",
        "  llist.printlist()\n",
        "\n",
        "# Create a new linked list\n",
        "  llist.head = Node(2)\n",
        "  second = Node(1)\n",
        "  llist.head.next = second\n",
        "  llist.printlist()"
      ],
      "metadata": {
        "colab": {
          "base_uri": "https://localhost:8080/"
        },
        "id": "Sm5R9LlVADw1",
        "outputId": "037261b7-a159-442e-937a-10a5a41bd66f"
      },
      "execution_count": 25,
      "outputs": [
        {
          "output_type": "stream",
          "name": "stdout",
          "text": [
            "1\n",
            "2\n",
            "3\n",
            "2\n",
            "1\n"
          ]
        }
      ]
    }
  ]
}